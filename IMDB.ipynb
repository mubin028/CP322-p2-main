{
 "cells": [
  {
   "cell_type": "code",
   "execution_count": 7,
   "metadata": {},
   "outputs": [],
   "source": [
    "from sklearn.datasets import load_files\n",
    "from sklearn.feature_extraction.text import CountVectorizer\n",
    "from sklearn.feature_extraction.text import TfidfTransformer\n",
    "\n",
    "imdb_train = load_files('aclImdb/train/', categories=['neg', 'pos'])\n",
    "imdb_test = load_files('aclImdb/test/', categories=['neg', 'pos'])\n",
    "\n",
    "count_vect = CountVectorizer()\n",
    "x_train_counts = count_vect.fit_transform(imdb_train.data)\n",
    "x_test_counts = count_vect.transform(imdb_test.data)\n",
    "\n",
    "tfidf_transformer = TfidfTransformer()\n",
    "x_train_tfidf = tfidf_transformer.fit_transform(x_train_counts)\n",
    "x_test_tfidf = tfidf_transformer.transform(x_test_counts)"
   ]
  },
  {
   "cell_type": "code",
   "execution_count": 8,
   "metadata": {},
   "outputs": [
    {
     "name": "stdout",
     "output_type": "stream",
     "text": [
      "Best Parameters: {'max_iter': 100, 'solver': 'liblinear'}\n",
      "Best Score: 0.8882\n",
      "Parameters: {'max_iter': 100, 'solver': 'lbfgs'}, Score: 0.888 (+/- 0.003)\n",
      "Parameters: {'max_iter': 100, 'solver': 'liblinear'}, Score: 0.888 (+/- 0.003)\n",
      "Parameters: {'max_iter': 100, 'solver': 'newton-cg'}, Score: 0.888 (+/- 0.003)\n",
      "Parameters: {'max_iter': 500, 'solver': 'lbfgs'}, Score: 0.888 (+/- 0.003)\n",
      "Parameters: {'max_iter': 500, 'solver': 'liblinear'}, Score: 0.888 (+/- 0.003)\n",
      "Parameters: {'max_iter': 500, 'solver': 'newton-cg'}, Score: 0.888 (+/- 0.003)\n",
      "Parameters: {'max_iter': 1000, 'solver': 'lbfgs'}, Score: 0.888 (+/- 0.003)\n",
      "Parameters: {'max_iter': 1000, 'solver': 'liblinear'}, Score: 0.888 (+/- 0.003)\n",
      "Parameters: {'max_iter': 1000, 'solver': 'newton-cg'}, Score: 0.888 (+/- 0.003)\n",
      "Test Accuracy: 0.8831\n"
     ]
    }
   ],
   "source": [
    "import classifiers\n",
    "\n",
    "parameters = {\n",
    "    'max_iter':[100, 500, 1000],\n",
    "    'solver':['lbfgs', 'liblinear', 'newton-cg']\n",
    "}\n",
    "\n",
    "classifiers.lr_fold(x_train_tfidf, x_test_tfidf, imdb_train, imdb_test, parameters)"
   ]
  },
  {
   "cell_type": "code",
   "execution_count": 9,
   "metadata": {},
   "outputs": [
    {
     "name": "stdout",
     "output_type": "stream",
     "text": [
      "Best Parameters: {'criterion': 'log_loss', 'splitter': 'random'}\n",
      "Best Score: 0.7125999999999999\n",
      "Parameters: {'criterion': 'gini', 'splitter': 'best'}, Score: 0.705 (+/- 0.005)\n",
      "Parameters: {'criterion': 'gini', 'splitter': 'random'}, Score: 0.711 (+/- 0.007)\n",
      "Parameters: {'criterion': 'entropy', 'splitter': 'best'}, Score: 0.700 (+/- 0.006)\n",
      "Parameters: {'criterion': 'entropy', 'splitter': 'random'}, Score: 0.707 (+/- 0.004)\n",
      "Parameters: {'criterion': 'log_loss', 'splitter': 'best'}, Score: 0.698 (+/- 0.006)\n",
      "Parameters: {'criterion': 'log_loss', 'splitter': 'random'}, Score: 0.713 (+/- 0.008)\n",
      "Test Accuracy: 0.7108\n"
     ]
    }
   ],
   "source": [
    "import classifiers\n",
    "\n",
    "parameters = {\n",
    "    'criterion':['gini', 'entropy', 'log_loss'],\n",
    "    'splitter':['best', 'random']\n",
    "}\n",
    "\n",
    "classifiers.decision_tree_fold(x_train_tfidf, x_test_tfidf, imdb_train, imdb_test, parameters)"
   ]
  },
  {
   "cell_type": "code",
   "execution_count": 14,
   "metadata": {},
   "outputs": [
    {
     "name": "stdout",
     "output_type": "stream",
     "text": [
      "Best Parameters: {'max_iter': 100}\n",
      "Best Score: 0.8928800000000001\n",
      "Parameters: {'max_iter': 100}, Score: 0.893 (+/- 0.006)\n",
      "Parameters: {'max_iter': 500}, Score: 0.893 (+/- 0.006)\n",
      "Parameters: {'max_iter': 1000}, Score: 0.893 (+/- 0.006)\n",
      "Test Accuracy: 0.8772\n"
     ]
    }
   ],
   "source": [
    "import classifiers\n",
    "\n",
    "parameters = {\n",
    "    'max_iter':[100, 500, 1000]\n",
    "}\n",
    "\n",
    "classifiers.svc_fold(x_train_tfidf, x_test_tfidf, imdb_train, imdb_test, parameters)"
   ]
  },
  {
   "cell_type": "code",
   "execution_count": 11,
   "metadata": {},
   "outputs": [
    {
     "name": "stdout",
     "output_type": "stream",
     "text": [
      "Best Parameters: {'learning_rate': 1, 'n_estimators': 50}\n",
      "Best Score: 0.80456\n",
      "Parameters: {'learning_rate': 0.01, 'n_estimators': 10}, Score: 0.615 (+/- 0.006)\n",
      "Parameters: {'learning_rate': 0.01, 'n_estimators': 25}, Score: 0.653 (+/- 0.009)\n",
      "Parameters: {'learning_rate': 0.01, 'n_estimators': 50}, Score: 0.653 (+/- 0.009)\n",
      "Parameters: {'learning_rate': 0.1, 'n_estimators': 10}, Score: 0.681 (+/- 0.010)\n",
      "Parameters: {'learning_rate': 0.1, 'n_estimators': 25}, Score: 0.696 (+/- 0.009)\n",
      "Parameters: {'learning_rate': 0.1, 'n_estimators': 50}, Score: 0.729 (+/- 0.010)\n",
      "Parameters: {'learning_rate': 1, 'n_estimators': 10}, Score: 0.728 (+/- 0.008)\n",
      "Parameters: {'learning_rate': 1, 'n_estimators': 25}, Score: 0.776 (+/- 0.008)\n",
      "Parameters: {'learning_rate': 1, 'n_estimators': 50}, Score: 0.805 (+/- 0.004)\n",
      "Test Accuracy: 0.8034\n"
     ]
    }
   ],
   "source": [
    "import classifiers\n",
    "\n",
    "parameters = {\n",
    "    'n_estimators':[10, 25, 50],\n",
    "    'learning_rate':[0.01, 0.1, 1]\n",
    "}\n",
    "\n",
    "classifiers.ada_boost_fold(x_train_tfidf, x_test_tfidf, imdb_train, imdb_test, parameters)"
   ]
  },
  {
   "cell_type": "code",
   "execution_count": 12,
   "metadata": {},
   "outputs": [
    {
     "name": "stdout",
     "output_type": "stream",
     "text": [
      "Best Parameters: {'max_depth': 100, 'n_estimators': 100, 'n_jobs': -1}\n",
      "Best Score: 0.8352\n",
      "Parameters: {'max_depth': 10, 'n_estimators': 25, 'n_jobs': -1}, Score: 0.774 (+/- 0.012)\n",
      "Parameters: {'max_depth': 10, 'n_estimators': 50, 'n_jobs': -1}, Score: 0.799 (+/- 0.009)\n",
      "Parameters: {'max_depth': 10, 'n_estimators': 100, 'n_jobs': -1}, Score: 0.813 (+/- 0.010)\n",
      "Parameters: {'max_depth': 100, 'n_estimators': 25, 'n_jobs': -1}, Score: 0.794 (+/- 0.008)\n",
      "Parameters: {'max_depth': 100, 'n_estimators': 50, 'n_jobs': -1}, Score: 0.820 (+/- 0.004)\n",
      "Parameters: {'max_depth': 100, 'n_estimators': 100, 'n_jobs': -1}, Score: 0.835 (+/- 0.006)\n",
      "Parameters: {'max_depth': None, 'n_estimators': 25, 'n_jobs': -1}, Score: 0.792 (+/- 0.004)\n",
      "Parameters: {'max_depth': None, 'n_estimators': 50, 'n_jobs': -1}, Score: 0.817 (+/- 0.006)\n",
      "Parameters: {'max_depth': None, 'n_estimators': 100, 'n_jobs': -1}, Score: 0.833 (+/- 0.004)\n",
      "Test Accuracy: 0.8390\n"
     ]
    }
   ],
   "source": [
    "import classifiers\n",
    "\n",
    "parameters = {\n",
    "    'n_estimators':[25, 50, 100],\n",
    "    'max_depth':[10, 100, None],\n",
    "    'n_jobs':[-1]\n",
    "}\n",
    "\n",
    "classifiers.random_forest_fold(x_train_tfidf, x_test_tfidf, imdb_train, imdb_test, parameters)"
   ]
  }
 ],
 "metadata": {
  "kernelspec": {
   "display_name": "Python 3",
   "language": "python",
   "name": "python3"
  },
  "language_info": {
   "codemirror_mode": {
    "name": "ipython",
    "version": 3
   },
   "file_extension": ".py",
   "mimetype": "text/x-python",
   "name": "python",
   "nbconvert_exporter": "python",
   "pygments_lexer": "ipython3",
   "version": "3.11.5"
  }
 },
 "nbformat": 4,
 "nbformat_minor": 2
}
