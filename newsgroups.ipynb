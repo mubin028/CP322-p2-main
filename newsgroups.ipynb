{
 "cells": [
  {
   "cell_type": "code",
   "execution_count": 1,
   "metadata": {},
   "outputs": [],
   "source": [
    "from sklearn.datasets import fetch_20newsgroups\n",
    "from sklearn.feature_extraction.text import CountVectorizer\n",
    "from sklearn.feature_extraction.text import TfidfTransformer\n",
    "\n",
    "newsgroups_train = fetch_20newsgroups(subset='train', remove=('headers', 'footers', 'quotes'))\n",
    "newsgroups_test = fetch_20newsgroups(subset='test', remove=('headers', 'footers', 'quotes'))\n",
    "\n",
    "count_vect = CountVectorizer()\n",
    "x_train_counts = count_vect.fit_transform(newsgroups_train.data)\n",
    "x_test_counts = count_vect.transform(newsgroups_test.data)\n",
    "\n",
    "tfidf_transformer = TfidfTransformer()\n",
    "x_train_tfidf = tfidf_transformer.fit_transform(x_train_counts)\n",
    "x_test_tfidf = tfidf_transformer.transform(x_test_counts)"
   ]
  },
  {
   "cell_type": "code",
   "execution_count": 2,
   "metadata": {},
   "outputs": [
    {
     "name": "stdout",
     "output_type": "stream",
     "text": [
      "Best Parameters: {'max_iter': 100, 'solver': 'liblinear'}\n",
      "Best Score: 0.7238821341903916\n",
      "Parameters: {'max_iter': 100, 'solver': 'lbfgs'}, Score: 0.723 (+/- 0.005)\n",
      "Parameters: {'max_iter': 100, 'solver': 'liblinear'}, Score: 0.724 (+/- 0.006)\n",
      "Parameters: {'max_iter': 100, 'solver': 'newton-cg'}, Score: 0.723 (+/- 0.005)\n",
      "Parameters: {'max_iter': 500, 'solver': 'lbfgs'}, Score: 0.723 (+/- 0.005)\n",
      "Parameters: {'max_iter': 500, 'solver': 'liblinear'}, Score: 0.724 (+/- 0.006)\n",
      "Parameters: {'max_iter': 500, 'solver': 'newton-cg'}, Score: 0.723 (+/- 0.005)\n",
      "Parameters: {'max_iter': 1000, 'solver': 'lbfgs'}, Score: 0.723 (+/- 0.005)\n",
      "Parameters: {'max_iter': 1000, 'solver': 'liblinear'}, Score: 0.724 (+/- 0.006)\n",
      "Parameters: {'max_iter': 1000, 'solver': 'newton-cg'}, Score: 0.723 (+/- 0.005)\n",
      "Test Accuracy: 0.6775\n"
     ]
    }
   ],
   "source": [
    "import classifiers\n",
    "\n",
    "parameters = {\n",
    "    'max_iter':[100, 500, 1000],\n",
    "    'solver':['lbfgs', 'liblinear', 'newton-cg']\n",
    "}\n",
    "\n",
    "classifiers.lr_fold(x_train_tfidf, x_test_tfidf, newsgroups_train, newsgroups_test, parameters)"
   ]
  },
  {
   "cell_type": "code",
   "execution_count": 3,
   "metadata": {},
   "outputs": [
    {
     "name": "stdout",
     "output_type": "stream",
     "text": [
      "Best Parameters: {'criterion': 'gini', 'splitter': 'random'}\n",
      "Best Score: 0.44210743467451835\n",
      "Parameters: {'criterion': 'gini', 'splitter': 'best'}, Score: 0.433 (+/- 0.017)\n",
      "Parameters: {'criterion': 'gini', 'splitter': 'random'}, Score: 0.442 (+/- 0.012)\n",
      "Parameters: {'criterion': 'entropy', 'splitter': 'best'}, Score: 0.298 (+/- 0.005)\n",
      "Parameters: {'criterion': 'entropy', 'splitter': 'random'}, Score: 0.298 (+/- 0.014)\n",
      "Parameters: {'criterion': 'log_loss', 'splitter': 'best'}, Score: 0.291 (+/- 0.006)\n",
      "Parameters: {'criterion': 'log_loss', 'splitter': 'random'}, Score: 0.289 (+/- 0.013)\n",
      "Test Accuracy: 0.4166\n"
     ]
    }
   ],
   "source": [
    "import classifiers\n",
    "\n",
    "parameters = {\n",
    "    'criterion':['gini', 'entropy', 'log_loss'],\n",
    "    'splitter':['best', 'random']\n",
    "}\n",
    "\n",
    "classifiers.decision_tree_fold(x_train_tfidf, x_test_tfidf, newsgroups_train, newsgroups_test, parameters)"
   ]
  },
  {
   "cell_type": "code",
   "execution_count": 12,
   "metadata": {},
   "outputs": [
    {
     "name": "stdout",
     "output_type": "stream",
     "text": [
      "Best Parameters: {'max_iter': 100}\n",
      "Best Score: 0.7601208930189379\n",
      "Parameters: {'max_iter': 100}, Score: 0.760 (+/- 0.007)\n",
      "Parameters: {'max_iter': 500}, Score: 0.760 (+/- 0.007)\n",
      "Parameters: {'max_iter': 1000}, Score: 0.760 (+/- 0.007)\n",
      "Test Accuracy: 0.6920\n"
     ]
    }
   ],
   "source": [
    "import classifiers\n",
    "\n",
    "parameters = {\n",
    "    'max_iter':[100, 500, 1000],\n",
    "}\n",
    "\n",
    "classifiers.svc_fold(x_train_tfidf, x_test_tfidf, newsgroups_train, newsgroups_test, parameters)"
   ]
  },
  {
   "cell_type": "code",
   "execution_count": 10,
   "metadata": {},
   "outputs": [
    {
     "name": "stdout",
     "output_type": "stream",
     "text": [
      "Best Parameters: {'learning_rate': 1, 'n_estimators': 50}\n",
      "Best Score: 0.39923987664551763\n",
      "Parameters: {'learning_rate': 0.01, 'n_estimators': 10}, Score: 0.167 (+/- 0.009)\n",
      "Parameters: {'learning_rate': 0.01, 'n_estimators': 25}, Score: 0.230 (+/- 0.004)\n",
      "Parameters: {'learning_rate': 0.01, 'n_estimators': 50}, Score: 0.258 (+/- 0.005)\n",
      "Parameters: {'learning_rate': 0.1, 'n_estimators': 10}, Score: 0.204 (+/- 0.007)\n",
      "Parameters: {'learning_rate': 0.1, 'n_estimators': 25}, Score: 0.290 (+/- 0.006)\n",
      "Parameters: {'learning_rate': 0.1, 'n_estimators': 50}, Score: 0.324 (+/- 0.011)\n",
      "Parameters: {'learning_rate': 1, 'n_estimators': 10}, Score: 0.217 (+/- 0.004)\n",
      "Parameters: {'learning_rate': 1, 'n_estimators': 25}, Score: 0.316 (+/- 0.008)\n",
      "Parameters: {'learning_rate': 1, 'n_estimators': 50}, Score: 0.399 (+/- 0.008)\n",
      "Test Accuracy: 0.3747\n"
     ]
    }
   ],
   "source": [
    "import classifiers\n",
    "\n",
    "parameters = {\n",
    "    'n_estimators':[10, 25, 50],\n",
    "    'learning_rate':[0.01, 0.1, 1]\n",
    "}\n",
    "\n",
    "classifiers.ada_boost_fold(x_train_tfidf, x_test_tfidf, newsgroups_train, newsgroups_test, parameters)"
   ]
  },
  {
   "cell_type": "code",
   "execution_count": 8,
   "metadata": {},
   "outputs": [
    {
     "name": "stdout",
     "output_type": "stream",
     "text": [
      "Best Parameters: {'max_depth': 100, 'n_estimators': 100, 'n_jobs': -1}\n",
      "Best Score: 0.642125133768817\n",
      "Parameters: {'max_depth': 10, 'n_estimators': 25, 'n_jobs': -1}, Score: 0.411 (+/- 0.005)\n",
      "Parameters: {'max_depth': 10, 'n_estimators': 50, 'n_jobs': -1}, Score: 0.497 (+/- 0.008)\n",
      "Parameters: {'max_depth': 10, 'n_estimators': 100, 'n_jobs': -1}, Score: 0.554 (+/- 0.005)\n",
      "Parameters: {'max_depth': 100, 'n_estimators': 25, 'n_jobs': -1}, Score: 0.564 (+/- 0.016)\n",
      "Parameters: {'max_depth': 100, 'n_estimators': 50, 'n_jobs': -1}, Score: 0.612 (+/- 0.007)\n",
      "Parameters: {'max_depth': 100, 'n_estimators': 100, 'n_jobs': -1}, Score: 0.642 (+/- 0.009)\n",
      "Parameters: {'max_depth': None, 'n_estimators': 25, 'n_jobs': -1}, Score: 0.552 (+/- 0.008)\n",
      "Parameters: {'max_depth': None, 'n_estimators': 50, 'n_jobs': -1}, Score: 0.606 (+/- 0.009)\n",
      "Parameters: {'max_depth': None, 'n_estimators': 100, 'n_jobs': -1}, Score: 0.633 (+/- 0.008)\n",
      "Test Accuracy: 0.6022\n"
     ]
    }
   ],
   "source": [
    "import classifiers\n",
    "\n",
    "parameters = {\n",
    "    'n_estimators':[25, 50, 100],\n",
    "    'max_depth':[10, 100, None],\n",
    "    'n_jobs':[-1]\n",
    "}\n",
    "\n",
    "classifiers.random_forest_fold(x_train_tfidf, x_test_tfidf, newsgroups_train, newsgroups_test, parameters)"
   ]
  }
 ],
 "metadata": {
  "kernelspec": {
   "display_name": "Python 3",
   "language": "python",
   "name": "python3"
  },
  "language_info": {
   "codemirror_mode": {
    "name": "ipython",
    "version": 3
   },
   "file_extension": ".py",
   "mimetype": "text/x-python",
   "name": "python",
   "nbconvert_exporter": "python",
   "pygments_lexer": "ipython3",
   "version": "3.11.5"
  }
 },
 "nbformat": 4,
 "nbformat_minor": 2
}
